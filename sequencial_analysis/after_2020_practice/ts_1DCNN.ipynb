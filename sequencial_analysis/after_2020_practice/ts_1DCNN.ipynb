{
 "cells": [
  {
   "cell_type": "markdown",
   "metadata": {},
   "source": [
    "# Time Series Forecast with 1D CNN\n",
    "\n",
    "* We can combine the speed and lightness of convnets with the order-sensitivity of RNNs is to use a 1D convnet as a preprocessing step before a RNN. \n",
    "  * This is especially beneficial when dealing with sequences that are so long that they couldn't realistically be processed with RNNs, e.g. sequences with thousands of steps. The convnet will turn the long input sequence into much shorter (downsampled) sequences of higher-level features. This sequence of extracted features then becomes the input to the RNN part of the network.\n",
    "* 1D CNN means the kernel slides only need to move along 1 dimension\n",
    "  * 2D means wdidth and height\n",
    "  * 3D means wdidth, height and depth"
   ]
  },
  {
   "cell_type": "code",
   "execution_count": 1,
   "metadata": {},
   "outputs": [],
   "source": [
    "import pandas as pd\n",
    "import numpy as np\n",
    "import datetime\n",
    "from matplotlib import pyplot as plt\n",
    "import seaborn as sns\n",
    "from sklearn.preprocessing import MinMaxScaler"
   ]
  },
  {
   "cell_type": "code",
   "execution_count": 2,
   "metadata": {},
   "outputs": [
    {
     "name": "stdout",
     "output_type": "stream",
     "text": [
      "(43824, 13)\n"
     ]
    },
    {
     "data": {
      "text/html": [
       "<div>\n",
       "<style scoped>\n",
       "    .dataframe tbody tr th:only-of-type {\n",
       "        vertical-align: middle;\n",
       "    }\n",
       "\n",
       "    .dataframe tbody tr th {\n",
       "        vertical-align: top;\n",
       "    }\n",
       "\n",
       "    .dataframe thead th {\n",
       "        text-align: right;\n",
       "    }\n",
       "</style>\n",
       "<table border=\"1\" class=\"dataframe\">\n",
       "  <thead>\n",
       "    <tr style=\"text-align: right;\">\n",
       "      <th></th>\n",
       "      <th>No</th>\n",
       "      <th>year</th>\n",
       "      <th>month</th>\n",
       "      <th>day</th>\n",
       "      <th>hour</th>\n",
       "      <th>pm2.5</th>\n",
       "      <th>DEWP</th>\n",
       "      <th>TEMP</th>\n",
       "      <th>PRES</th>\n",
       "      <th>cbwd</th>\n",
       "      <th>Iws</th>\n",
       "      <th>Is</th>\n",
       "      <th>Ir</th>\n",
       "    </tr>\n",
       "  </thead>\n",
       "  <tbody>\n",
       "    <tr>\n",
       "      <th>0</th>\n",
       "      <td>1</td>\n",
       "      <td>2010</td>\n",
       "      <td>1</td>\n",
       "      <td>1</td>\n",
       "      <td>0</td>\n",
       "      <td>NaN</td>\n",
       "      <td>-21</td>\n",
       "      <td>-11.0</td>\n",
       "      <td>1021.0</td>\n",
       "      <td>NW</td>\n",
       "      <td>1.79</td>\n",
       "      <td>0</td>\n",
       "      <td>0</td>\n",
       "    </tr>\n",
       "    <tr>\n",
       "      <th>1</th>\n",
       "      <td>2</td>\n",
       "      <td>2010</td>\n",
       "      <td>1</td>\n",
       "      <td>1</td>\n",
       "      <td>1</td>\n",
       "      <td>NaN</td>\n",
       "      <td>-21</td>\n",
       "      <td>-12.0</td>\n",
       "      <td>1020.0</td>\n",
       "      <td>NW</td>\n",
       "      <td>4.92</td>\n",
       "      <td>0</td>\n",
       "      <td>0</td>\n",
       "    </tr>\n",
       "    <tr>\n",
       "      <th>2</th>\n",
       "      <td>3</td>\n",
       "      <td>2010</td>\n",
       "      <td>1</td>\n",
       "      <td>1</td>\n",
       "      <td>2</td>\n",
       "      <td>NaN</td>\n",
       "      <td>-21</td>\n",
       "      <td>-11.0</td>\n",
       "      <td>1019.0</td>\n",
       "      <td>NW</td>\n",
       "      <td>6.71</td>\n",
       "      <td>0</td>\n",
       "      <td>0</td>\n",
       "    </tr>\n",
       "    <tr>\n",
       "      <th>3</th>\n",
       "      <td>4</td>\n",
       "      <td>2010</td>\n",
       "      <td>1</td>\n",
       "      <td>1</td>\n",
       "      <td>3</td>\n",
       "      <td>NaN</td>\n",
       "      <td>-21</td>\n",
       "      <td>-14.0</td>\n",
       "      <td>1019.0</td>\n",
       "      <td>NW</td>\n",
       "      <td>9.84</td>\n",
       "      <td>0</td>\n",
       "      <td>0</td>\n",
       "    </tr>\n",
       "    <tr>\n",
       "      <th>4</th>\n",
       "      <td>5</td>\n",
       "      <td>2010</td>\n",
       "      <td>1</td>\n",
       "      <td>1</td>\n",
       "      <td>4</td>\n",
       "      <td>NaN</td>\n",
       "      <td>-20</td>\n",
       "      <td>-12.0</td>\n",
       "      <td>1018.0</td>\n",
       "      <td>NW</td>\n",
       "      <td>12.97</td>\n",
       "      <td>0</td>\n",
       "      <td>0</td>\n",
       "    </tr>\n",
       "  </tbody>\n",
       "</table>\n",
       "</div>"
      ],
      "text/plain": [
       "   No  year  month  day  hour  pm2.5  DEWP  TEMP    PRES cbwd    Iws  Is  Ir\n",
       "0   1  2010      1    1     0    NaN   -21 -11.0  1021.0   NW   1.79   0   0\n",
       "1   2  2010      1    1     1    NaN   -21 -12.0  1020.0   NW   4.92   0   0\n",
       "2   3  2010      1    1     2    NaN   -21 -11.0  1019.0   NW   6.71   0   0\n",
       "3   4  2010      1    1     3    NaN   -21 -14.0  1019.0   NW   9.84   0   0\n",
       "4   5  2010      1    1     4    NaN   -20 -12.0  1018.0   NW  12.97   0   0"
      ]
     },
     "execution_count": 2,
     "metadata": {},
     "output_type": "execute_result"
    }
   ],
   "source": [
    "df = pd.read_csv('data/pm25.csv')\n",
    "\n",
    "print(df.shape)\n",
    "df.head()"
   ]
  },
  {
   "cell_type": "code",
   "execution_count": 3,
   "metadata": {},
   "outputs": [
    {
     "name": "stdout",
     "output_type": "stream",
     "text": [
      "Shape of train: (33096, 15)\n",
      "Shape of test: (8661, 15)\n"
     ]
    }
   ],
   "source": [
    "df.dropna(subset=['pm2.5'], axis=0, inplace=True)\n",
    "df.reset_index(drop=True, inplace=True)\n",
    "\n",
    "df['datetime'] = df[['year', 'month', 'day', 'hour']].apply(\n",
    "    lambda row: datetime.datetime(year=row['year'], \n",
    "                                  month=row['month'], day=row['day'],hour=row['hour']), axis=1)\n",
    "df.sort_values('datetime', ascending=True, inplace=True)\n",
    "\n",
    "scaler = MinMaxScaler(feature_range=(0, 1))\n",
    "df['scaled_pm2.5'] = scaler.fit_transform(np.array(df['pm2.5']).reshape(-1, 1))\n",
    "\n",
    "split_date = datetime.datetime(year=2014, month=1, day=1, hour=0)  \n",
    "df_train = df.loc[df['datetime']<split_date]\n",
    "df_val = df.loc[df['datetime']>=split_date]\n",
    "df_val.reset_index(drop=True, inplace=True)\n",
    "print('Shape of train:', df_train.shape)\n",
    "print('Shape of test:', df_val.shape)"
   ]
  },
  {
   "cell_type": "code",
   "execution_count": 4,
   "metadata": {},
   "outputs": [],
   "source": [
    "def makeXy(ts, nb_timesteps):\n",
    "    \"\"\"\n",
    "    Input: \n",
    "           ts: original time series\n",
    "           nb_timesteps: number of time steps in the regressors\n",
    "    Output: \n",
    "           X: 2-D array of regressors\n",
    "           y: 1-D array of target \n",
    "    \"\"\"\n",
    "    X = []\n",
    "    y = []\n",
    "    for i in range(nb_timesteps, ts.shape[0]):\n",
    "        X.append(list(ts.loc[i-nb_timesteps:i-1]))\n",
    "        y.append(ts.loc[i])\n",
    "        \n",
    "    X, y = np.array(X), np.array(y)\n",
    "    return X, y"
   ]
  },
  {
   "cell_type": "code",
   "execution_count": 5,
   "metadata": {},
   "outputs": [
    {
     "name": "stdout",
     "output_type": "stream",
     "text": [
      "Shape of train arrays: (33089, 7) (33089,)\n",
      "Shape of validation arrays: (8654, 7) (8654,)\n"
     ]
    }
   ],
   "source": [
    "X_train, y_train = makeXy(df_train['scaled_pm2.5'], 7)\n",
    "X_val, y_val = makeXy(df_val['scaled_pm2.5'], 7)\n",
    "\n",
    "print('Shape of train arrays:', X_train.shape, y_train.shape)\n",
    "print('Shape of validation arrays:', X_val.shape, y_val.shape)"
   ]
  },
  {
   "cell_type": "code",
   "execution_count": 6,
   "metadata": {},
   "outputs": [
    {
     "name": "stdout",
     "output_type": "stream",
     "text": [
      "Shape of arrays after reshaping: (33089, 7, 1) (8654, 7, 1)\n"
     ]
    }
   ],
   "source": [
    "X_train = X_train.reshape((X_train.shape[0], X_train.shape[1], 1))\n",
    "X_val = X_val.reshape((X_val.shape[0], X_val.shape[1], 1))\n",
    "print('Shape of arrays after reshaping:', X_train.shape, X_val.shape)"
   ]
  },
  {
   "cell_type": "code",
   "execution_count": 17,
   "metadata": {},
   "outputs": [],
   "source": [
    "import tensorflow as tf\n",
    "from tensorflow.keras.models import Sequential\n",
    "from tensorflow.keras.optimizers import Adam\n",
    "from tensorflow.keras.layers import LSTM, Conv1D\n",
    "from tensorflow.keras.layers import Dense, Dropout, Input, ZeroPadding1D, AveragePooling1D, Flatten\n",
    "from tensorflow.keras.models import load_model\n",
    "from tensorflow.keras.callbacks import ModelCheckpoint\n",
    "\n",
    "from sklearn.metrics import mean_absolute_error\n",
    "\n",
    "tf.random.set_seed(10)"
   ]
  },
  {
   "cell_type": "markdown",
   "metadata": {},
   "source": [
    "### 1D CNN Only\n",
    "\n",
    "* ZeroPadding1D layer is added next to add zeros at the begining and end of each series. \n",
    "  * Zeropadding ensure that the downstream convolution layer does not reduce the dimension of the output sequences.\n",
    "  * Pooling layer, added after the convolution layer is used to downsampling the input.\n",
    "* In Con1D\n",
    "  * param 1 determines the number of features in the output\n",
    "  * param 2 indicates length of the 1D convolution window, moving window size\n",
    "  * param 3 is strides of the moving window, representing the number of places to shift the convolution window\n",
    "  * `use_bias` as True, adds a bias value during computation of an output feature\n",
    "  * 1D convolution can be thought of as generating local AR models over rolling window of three time units.\n",
    "* AveragePooling1D is added next to downsample the input by taking average over pool size of three with stride of one timesteps. \n",
    "  * The average pooling in this case can be thought of as taking moving averages over a rolling window of three time units.\n",
    "* The Flatten layer reshapes the input to `(number of samples, number of timesteps*number of features per timestep)`, which is then fed to the output layer"
   ]
  },
  {
   "cell_type": "code",
   "execution_count": 32,
   "metadata": {},
   "outputs": [
    {
     "name": "stdout",
     "output_type": "stream",
     "text": [
      "Model: \"sequential_11\"\n",
      "_________________________________________________________________\n",
      "Layer (type)                 Output Shape              Param #   \n",
      "=================================================================\n",
      "zero_padding1d_7 (ZeroPaddin (None, 9, 1)              0         \n",
      "_________________________________________________________________\n",
      "conv1d_18 (Conv1D)           (None, 7, 64)             256       \n",
      "_________________________________________________________________\n",
      "conv1d_19 (Conv1D)           (None, 5, 32)             6176      \n",
      "_________________________________________________________________\n",
      "average_pooling1d_7 (Average (None, 3, 32)             0         \n",
      "_________________________________________________________________\n",
      "flatten_4 (Flatten)          (None, 96)                0         \n",
      "_________________________________________________________________\n",
      "dense_12 (Dense)             (None, 32)                3104      \n",
      "_________________________________________________________________\n",
      "dense_13 (Dense)             (None, 16)                528       \n",
      "_________________________________________________________________\n",
      "dropout_4 (Dropout)          (None, 16)                0         \n",
      "_________________________________________________________________\n",
      "dense_14 (Dense)             (None, 1)                 17        \n",
      "=================================================================\n",
      "Total params: 10,081\n",
      "Trainable params: 10,081\n",
      "Non-trainable params: 0\n",
      "_________________________________________________________________\n"
     ]
    }
   ],
   "source": [
    "model = Sequential()\n",
    "model.add(ZeroPadding1D(padding=1,\n",
    "               input_shape=(X_train.shape[1:])))\n",
    "model.add(Conv1D(64, 3, strides=1, use_bias=True))\n",
    "model.add(Conv1D(32, 3, strides=1, use_bias=True))\n",
    "model.add(AveragePooling1D(pool_size=3, strides=1))\n",
    "model.add(Flatten())\n",
    "model.add(Dense(32))\n",
    "model.add(Dense(16))\n",
    "model.add(Dropout(0.2))\n",
    "model.add(Dense(1, activation='tanh'))\n",
    "\n",
    "model.compile(optimizer=Adam(amsgrad=True), loss='mean_absolute_error', metrics='mae')\n",
    "model.summary()"
   ]
  },
  {
   "cell_type": "code",
   "execution_count": 39,
   "metadata": {},
   "outputs": [
    {
     "name": "stdout",
     "output_type": "stream",
     "text": [
      "Epoch 1/50\n",
      "1655/1655 [==============================] - 16s 9ms/step - loss: 0.0144 - mae: 0.0144 - val_loss: 0.0129 - val_mae: 0.0129\n",
      "INFO:tensorflow:Assets written to: 1dcnn_model\\assets\n",
      "Epoch 2/50\n",
      "1655/1655 [==============================] - 16s 10ms/step - loss: 0.0144 - mae: 0.0144 - val_loss: 0.0126 - val_mae: 0.0126\n",
      "INFO:tensorflow:Assets written to: 1dcnn_model\\assets\n",
      "Epoch 3/50\n",
      "1655/1655 [==============================] - 19s 11ms/step - loss: 0.0144 - mae: 0.0144 - val_loss: 0.0124 - val_mae: 0.0124ss: 0.0145 - m - ETA: 0s - loss: 0.0145 - mae: \n",
      "INFO:tensorflow:Assets written to: 1dcnn_model\\assets\n",
      "Epoch 4/50\n",
      "1655/1655 [==============================] - 22s 13ms/step - loss: 0.0144 - mae: 0.0144 - val_loss: 0.0127 - val_mae: 0.0127\n",
      "Epoch 5/50\n",
      "1655/1655 [==============================] - 20s 12ms/step - loss: 0.0144 - mae: 0.0144 - val_loss: 0.0125 - val_mae: 0.0125\n",
      "Epoch 6/50\n",
      "1655/1655 [==============================] - 19s 11ms/step - loss: 0.0144 - mae: 0.0144 - val_loss: 0.0126 - val_mae: 0.0126\n",
      "Epoch 7/50\n",
      "1655/1655 [==============================] - 26s 16ms/step - loss: 0.0144 - mae: 0.0144 - val_loss: 0.0128 - val_mae: 0.0128\n",
      "Epoch 8/50\n",
      "1655/1655 [==============================] - 25s 15ms/step - loss: 0.0143 - mae: 0.0143 - val_loss: 0.0130 - val_mae: 0.0130\n",
      "Epoch 9/50\n",
      "1655/1655 [==============================] - 28s 17ms/step - loss: 0.0143 - mae: 0.0143 - val_loss: 0.0129 - val_mae: 0.0129\n",
      "Epoch 10/50\n",
      "1655/1655 [==============================] - 28s 17ms/step - loss: 0.0143 - mae: 0.0143 - val_loss: 0.0126 - val_mae: 0.0126\n",
      "Epoch 11/50\n",
      "1655/1655 [==============================] - 27s 16ms/step - loss: 0.0144 - mae: 0.0144 - val_loss: 0.0124 - val_mae: 0.0124 mae\n",
      "INFO:tensorflow:Assets written to: 1dcnn_model\\assets\n",
      "Epoch 12/50\n",
      "1655/1655 [==============================] - 30s 18ms/step - loss: 0.0143 - mae: 0.0143 - val_loss: 0.0124 - val_mae: 0.0124\n",
      "Epoch 13/50\n",
      "1655/1655 [==============================] - 30s 18ms/step - loss: 0.0143 - mae: 0.0143 - val_loss: 0.0126 - val_mae: 0.0126\n",
      "Epoch 14/50\n",
      "1655/1655 [==============================] - 28s 17ms/step - loss: 0.0143 - mae: 0.0143 - val_loss: 0.0129 - val_mae: 0.0129\n",
      "Epoch 15/50\n",
      "1655/1655 [==============================] - 28s 17ms/step - loss: 0.0143 - mae: 0.0143 - val_loss: 0.0125 - val_mae: 0.0125\n",
      "Epoch 16/50\n",
      "1655/1655 [==============================] - 30s 18ms/step - loss: 0.0143 - mae: 0.0143 - val_loss: 0.0125 - val_mae: 0.0125\n",
      "Epoch 17/50\n",
      "1655/1655 [==============================] - 29s 18ms/step - loss: 0.0143 - mae: 0.0143 - val_loss: 0.0127 - val_mae: 0.0127\n",
      "Epoch 18/50\n",
      "1655/1655 [==============================] - 29s 17ms/step - loss: 0.0143 - mae: 0.0143 - val_loss: 0.0128 - val_mae: 0.0128\n",
      "Epoch 19/50\n",
      "1655/1655 [==============================] - 28s 17ms/step - loss: 0.0143 - mae: 0.0143 - val_loss: 0.0126 - val_mae: 0.0126\n",
      "Epoch 20/50\n",
      "1655/1655 [==============================] - 28s 17ms/step - loss: 0.0143 - mae: 0.0143 - val_loss: 0.0124 - val_mae: 0.0124\n",
      "Epoch 21/50\n",
      "1655/1655 [==============================] - 29s 17ms/step - loss: 0.0143 - mae: 0.0143 - val_loss: 0.0127 - val_mae: 0.0127\n",
      "Epoch 22/50\n",
      "1655/1655 [==============================] - 28s 17ms/step - loss: 0.0142 - mae: 0.0142 - val_loss: 0.0130 - val_mae: 0.0130\n",
      "Epoch 23/50\n",
      "1655/1655 [==============================] - 29s 18ms/step - loss: 0.0142 - mae: 0.0142 - val_loss: 0.0131 - val_mae: 0.0131\n",
      "Epoch 24/50\n",
      "1655/1655 [==============================] - 18s 11ms/step - loss: 0.0143 - mae: 0.0143 - val_loss: 0.0131 - val_mae: 0.0131 1s - loss: 0.0143 - m - ETA: 0s - loss: 0.\n",
      "Epoch 25/50\n",
      "1655/1655 [==============================] - 28s 17ms/step - loss: 0.0142 - mae: 0.0142 - val_loss: 0.0124 - val_mae: 0.0124\n",
      "INFO:tensorflow:Assets written to: 1dcnn_model\\assets\n",
      "Epoch 26/50\n",
      "1655/1655 [==============================] - 30s 18ms/step - loss: 0.0142 - mae: 0.0142 - val_loss: 0.0125 - val_mae: 0.0125\n",
      "Epoch 27/50\n",
      "1655/1655 [==============================] - 29s 18ms/step - loss: 0.0142 - mae: 0.0142 - val_loss: 0.0127 - val_mae: 0.0127\n",
      "Epoch 28/50\n",
      "1655/1655 [==============================] - 18s 11ms/step - loss: 0.0143 - mae: 0.0143 - val_loss: 0.0125 - val_mae: 0.0125\n",
      "Epoch 29/50\n",
      "1655/1655 [==============================] - 20s 12ms/step - loss: 0.0142 - mae: 0.0142 - val_loss: 0.0133 - val_mae: 0.0133\n",
      "Epoch 30/50\n",
      "1655/1655 [==============================] - 20s 12ms/step - loss: 0.0142 - mae: 0.0142 - val_loss: 0.0127 - val_mae: 0.0127\n",
      "Epoch 31/50\n",
      "1655/1655 [==============================] - 24s 14ms/step - loss: 0.0142 - mae: 0.0142 - val_loss: 0.0135 - val_mae: 0.0135014 - ETA: 0s - loss: 0.0\n",
      "Epoch 32/50\n",
      "1655/1655 [==============================] - 24s 15ms/step - loss: 0.0142 - mae: 0.0142 - val_loss: 0.0124 - val_mae: 0.0124\n",
      "Epoch 33/50\n",
      "1655/1655 [==============================] - 25s 15ms/step - loss: 0.0142 - mae: 0.0142 - val_loss: 0.0129 - val_mae: 0.01290142 - \n",
      "Epoch 34/50\n",
      "1655/1655 [==============================] - 26s 15ms/step - loss: 0.0142 - mae: 0.0142 - val_loss: 0.0126 - val_mae: 0.0126\n",
      "Epoch 35/50\n",
      "1655/1655 [==============================] - 26s 15ms/step - loss: 0.0142 - mae: 0.0142 - val_loss: 0.0123 - val_mae: 0.0123\n",
      "INFO:tensorflow:Assets written to: 1dcnn_model\\assets\n",
      "Epoch 36/50\n",
      "1655/1655 [==============================] - 25s 15ms/step - loss: 0.0141 - mae: 0.0141 - val_loss: 0.0130 - val_mae: 0.0130\n",
      "Epoch 37/50\n",
      "1655/1655 [==============================] - 25s 15ms/step - loss: 0.0142 - mae: 0.0142 - val_loss: 0.0125 - val_mae: 0.0125\n",
      "Epoch 38/50\n",
      "1655/1655 [==============================] - 25s 15ms/step - loss: 0.0142 - mae: 0.0142 - val_loss: 0.0128 - val_mae: 0.0128\n",
      "Epoch 39/50\n",
      "1655/1655 [==============================] - 26s 16ms/step - loss: 0.0142 - mae: 0.0142 - val_loss: 0.0124 - val_mae: 0.0124\n",
      "Epoch 40/50\n",
      "1655/1655 [==============================] - 25s 15ms/step - loss: 0.0142 - mae: 0.0142 - val_loss: 0.0125 - val_mae: 0.0125ae: 0.01\n",
      "Epoch 41/50\n",
      "1655/1655 [==============================] - 25s 15ms/step - loss: 0.0141 - mae: 0.0141 - val_loss: 0.0129 - val_mae: 0.01290142 - mae: 0.0\n",
      "Epoch 42/50\n",
      "1655/1655 [==============================] - 22s 13ms/step - loss: 0.0141 - mae: 0.0141 - val_loss: 0.0124 - val_mae: 0.0124loss: 0.0\n",
      "Epoch 43/50\n",
      "1655/1655 [==============================] - 26s 16ms/step - loss: 0.0141 - mae: 0.0141 - val_loss: 0.0126 - val_mae: 0.0126s: 0.0141 - ETA: 0s - loss: 0.0141 - mae: 0.014\n",
      "Epoch 44/50\n",
      "1655/1655 [==============================] - 26s 16ms/step - loss: 0.0142 - mae: 0.0142 - val_loss: 0.0135 - val_mae: 0.0135.0142 - mae - ETA: 2s - lo - ETA: 1s - loss:\n",
      "Epoch 45/50\n",
      "1655/1655 [==============================] - 26s 15ms/step - loss: 0.0142 - mae: 0.0142 - val_loss: 0.0130 - val_mae: 0.0130\n",
      "Epoch 46/50\n",
      "1655/1655 [==============================] - 26s 16ms/step - loss: 0.0141 - mae: 0.0141 - val_loss: 0.0128 - val_mae: 0.0128\n",
      "Epoch 47/50\n",
      "1655/1655 [==============================] - 26s 16ms/step - loss: 0.0141 - mae: 0.0141 - val_loss: 0.0124 - val_mae: 0.01240s - loss: 0.0141 - mae: 0.\n",
      "Epoch 48/50\n",
      "1655/1655 [==============================] - 26s 16ms/step - loss: 0.0141 - mae: 0.0141 - val_loss: 0.0125 - val_mae: 0.0125: 0.0140 - ETA: 3s - loss: 0.014\n",
      "Epoch 49/50\n",
      "1655/1655 [==============================] - 27s 16ms/step - loss: 0.0141 - mae: 0.0141 - val_loss: 0.0123 - val_mae: 0.0123\n",
      "Epoch 50/50\n",
      "1655/1655 [==============================] - 25s 15ms/step - loss: 0.0141 - mae: 0.0141 - val_loss: 0.0125 - val_mae: 0.0125\n"
     ]
    }
   ],
   "source": [
    "save_weights_at = '1dcnn_model'\n",
    "save_best = ModelCheckpoint(save_weights_at, monitor='val_loss', verbose=0,\n",
    "                            save_best_only=True, save_weights_only=False, mode='min',\n",
    "                            save_freq='epoch')\n",
    "history = model.fit(x=X_train, y=y_train, batch_size=20, epochs=50,\n",
    "             verbose=1, callbacks=[save_best], validation_data=(X_val, y_val),\n",
    "             shuffle=True)"
   ]
  },
  {
   "cell_type": "code",
   "execution_count": 40,
   "metadata": {},
   "outputs": [
    {
     "name": "stdout",
     "output_type": "stream",
     "text": [
      "MAE for the validation set: 12.2419\n",
      "MAE for the scaled validation set: 0.0123\n"
     ]
    },
    {
     "data": {
      "image/png": "[encoded data removed]",
      "text/plain": [
       "<Figure size 432x288 with 1 Axes>"
      ]
     },
     "metadata": {
      "needs_background": "light"
     },
     "output_type": "display_data"
    },
    {
     "data": {
      "image/png": "[encoded data removed]",
      "text/plain": [
       "<Figure size 432x288 with 1 Axes>"
      ]
     },
     "metadata": {
      "needs_background": "light"
     },
     "output_type": "display_data"
    }
   ],
   "source": [
    "# load the best model\n",
    "best_model = load_model('1dcnn_model')\n",
    "\n",
    "# Compare the prediction with y_true\n",
    "preds = best_model.predict(X_val)\n",
    "pred_pm25 = scaler.inverse_transform(preds)\n",
    "pred_pm25 = np.squeeze(pred_pm25)\n",
    "\n",
    "# Measure MAE of y_pred and y_true\n",
    "mae = mean_absolute_error(df_val['pm2.5'].loc[7:], pred_pm25)\n",
    "print('MAE for the validation set:', round(mae, 4))\n",
    "\n",
    "mae = mean_absolute_error(df_val['scaled_pm2.5'].loc[7:], preds)\n",
    "print('MAE for the scaled validation set:', round(mae, 4))\n",
    "\n",
    "# Check the metrics and loss of each apoch\n",
    "mae = history.history['mae']\n",
    "val_mae = history.history['val_mae']\n",
    "loss = history.history['loss']\n",
    "val_loss = history.history['val_loss']\n",
    "\n",
    "epochs = range(len(mae))\n",
    "\n",
    "plt.plot(epochs, mae, 'bo', label='Training MAE')\n",
    "plt.plot(epochs, val_mae, 'b', label='Validation MAE')\n",
    "plt.title('Training and Validation MAE')\n",
    "plt.legend()\n",
    "\n",
    "plt.figure()\n",
    "\n",
    "# Here I was using MAE as loss too, that's why they lookedalmost the same...\n",
    "plt.plot(epochs, loss, 'bo', label='Training loss')\n",
    "plt.plot(epochs, val_loss, 'b', label='Validation loss')\n",
    "plt.title('Training and Validation loss')\n",
    "plt.legend()\n",
    "\n",
    "plt.show()"
   ]
  },
  {
   "cell_type": "markdown",
   "metadata": {},
   "source": [
    "### Add LSTM after 1D CNN"
   ]
  },
  {
   "cell_type": "code",
   "execution_count": 36,
   "metadata": {},
   "outputs": [
    {
     "name": "stdout",
     "output_type": "stream",
     "text": [
      "Model: \"sequential_13\"\n",
      "_________________________________________________________________\n",
      "Layer (type)                 Output Shape              Param #   \n",
      "=================================================================\n",
      "zero_padding1d_9 (ZeroPaddin (None, 9, 1)              0         \n",
      "_________________________________________________________________\n",
      "conv1d_22 (Conv1D)           (None, 7, 64)             256       \n",
      "_________________________________________________________________\n",
      "conv1d_23 (Conv1D)           (None, 5, 32)             6176      \n",
      "_________________________________________________________________\n",
      "average_pooling1d_9 (Average (None, 3, 32)             0         \n",
      "_________________________________________________________________\n",
      "lstm (LSTM)                  (None, 32)                8320      \n",
      "_________________________________________________________________\n",
      "dense_15 (Dense)             (None, 1)                 33        \n",
      "=================================================================\n",
      "Total params: 14,785\n",
      "Trainable params: 14,785\n",
      "Non-trainable params: 0\n",
      "_________________________________________________________________\n"
     ]
    }
   ],
   "source": [
    "model = Sequential()\n",
    "model.add(ZeroPadding1D(padding=1,\n",
    "               input_shape=(X_train.shape[1:])))\n",
    "model.add(Conv1D(64, 3, strides=1, use_bias=True))\n",
    "model.add(Conv1D(32, 3, strides=1, use_bias=True))\n",
    "model.add(AveragePooling1D(pool_size=3, strides=1))\n",
    "model.add(LSTM(32, dropout=0.1, recurrent_dropout=0.5, activation='tanh'))\n",
    "model.add(Dense(1, activation='tanh'))\n",
    "\n",
    "model.compile(optimizer=Adam(amsgrad=True), loss='mean_absolute_error', metrics='mae')\n",
    "model.summary()"
   ]
  },
  {
   "cell_type": "code",
   "execution_count": 37,
   "metadata": {},
   "outputs": [
    {
     "name": "stdout",
     "output_type": "stream",
     "text": [
      "Epoch 1/20\n",
      "2069/2069 [==============================] - 24s 9ms/step - loss: 0.0218 - mae: 0.0218 - val_loss: 0.0140 - val_mae: 0.0140\n",
      "INFO:tensorflow:Assets written to: 1dcnn_lstm_model\\assets\n",
      "Epoch 2/20\n",
      "2069/2069 [==============================] - 18s 9ms/step - loss: 0.0164 - mae: 0.0164 - val_loss: 0.0141 - val_mae: 0.0141\n",
      "Epoch 3/20\n",
      "2069/2069 [==============================] - 26s 13ms/step - loss: 0.0158 - mae: 0.0158 - val_loss: 0.0133 - val_mae: 0.0133 0.0158 \n",
      "INFO:tensorflow:Assets written to: 1dcnn_lstm_model\\assets\n",
      "Epoch 4/20\n",
      "2069/2069 [==============================] - 29s 14ms/step - loss: 0.0155 - mae: 0.0155 - val_loss: 0.0145 - val_mae: 0.0145\n",
      "Epoch 5/20\n",
      "2069/2069 [==============================] - 28s 14ms/step - loss: 0.0151 - mae: 0.0151 - val_loss: 0.0143 - val_mae: 0.0143\n",
      "Epoch 6/20\n",
      "2069/2069 [==============================] - 28s 13ms/step - loss: 0.0155 - mae: 0.0155 - val_loss: 0.0140 - val_mae: 0.0140\n",
      "Epoch 7/20\n",
      "2069/2069 [==============================] - 29s 14ms/step - loss: 0.0151 - mae: 0.0151 - val_loss: 0.0139 - val_mae: 0.0139\n",
      "Epoch 8/20\n",
      "2069/2069 [==============================] - 29s 14ms/step - loss: 0.0150 - mae: 0.0150 - val_loss: 0.0128 - val_mae: 0.0128\n",
      "INFO:tensorflow:Assets written to: 1dcnn_lstm_model\\assets\n",
      "Epoch 9/20\n",
      "2069/2069 [==============================] - 24s 12ms/step - loss: 0.0149 - mae: 0.0149 - val_loss: 0.0130 - val_mae: 0.0130\n",
      "Epoch 10/20\n",
      "2069/2069 [==============================] - 27s 13ms/step - loss: 0.0152 - mae: 0.0152 - val_loss: 0.0129 - val_mae: 0.0129\n",
      "Epoch 11/20\n",
      "2069/2069 [==============================] - 27s 13ms/step - loss: 0.0148 - mae: 0.0148 - val_loss: 0.0126 - val_mae: 0.0126\n",
      "INFO:tensorflow:Assets written to: 1dcnn_lstm_model\\assets\n",
      "Epoch 12/20\n",
      "2069/2069 [==============================] - 28s 13ms/step - loss: 0.0147 - mae: 0.0147 - val_loss: 0.0129 - val_mae: 0.0129\n",
      "Epoch 13/20\n",
      "2069/2069 [==============================] - 28s 14ms/step - loss: 0.0147 - mae: 0.0147 - val_loss: 0.0127 - val_mae: 0.0127\n",
      "Epoch 14/20\n",
      "2069/2069 [==============================] - 27s 13ms/step - loss: 0.0148 - mae: 0.0148 - val_loss: 0.0127 - val_mae: 0.0127\n",
      "Epoch 15/20\n",
      "2069/2069 [==============================] - 30s 14ms/step - loss: 0.0145 - mae: 0.0145 - val_loss: 0.0128 - val_mae: 0.0128\n",
      "Epoch 16/20\n",
      "2069/2069 [==============================] - 27s 13ms/step - loss: 0.0145 - mae: 0.0145 - val_loss: 0.0128 - val_mae: 0.0128\n",
      "Epoch 17/20\n",
      "2069/2069 [==============================] - 30s 15ms/step - loss: 0.0147 - mae: 0.0147 - val_loss: 0.0128 - val_mae: 0.0128\n",
      "Epoch 18/20\n",
      "2069/2069 [==============================] - 27s 13ms/step - loss: 0.0147 - mae: 0.0147 - val_loss: 0.0133 - val_mae: 0.0133s - ETA: 0s - loss: 0.0147 - mae: 0\n",
      "Epoch 19/20\n",
      "2069/2069 [==============================] - 26s 12ms/step - loss: 0.0146 - mae: 0.0146 - val_loss: 0.0126 - val_mae: 0.0126\n",
      "INFO:tensorflow:Assets written to: 1dcnn_lstm_model\\assets\n",
      "Epoch 20/20\n",
      "2069/2069 [==============================] - 27s 13ms/step - loss: 0.0146 - mae: 0.0146 - val_loss: 0.0126 - val_mae: 0.0126\n"
     ]
    }
   ],
   "source": [
    "save_weights_at = '1dcnn_lstm_model'\n",
    "save_best = ModelCheckpoint(save_weights_at, monitor='val_loss', verbose=0,\n",
    "                            save_best_only=True, save_weights_only=False, mode='min',\n",
    "                            save_freq='epoch')\n",
    "history = model.fit(x=X_train, y=y_train, batch_size=16, epochs=20,\n",
    "             verbose=1, callbacks=[save_best], validation_data=(X_val, y_val),\n",
    "             shuffle=True)"
   ]
  },
  {
   "cell_type": "code",
   "execution_count": 38,
   "metadata": {},
   "outputs": [
    {
     "name": "stdout",
     "output_type": "stream",
     "text": [
      "MAE for the validation set: 12.4811\n",
      "MAE for the scaled validation set: 0.0126\n"
     ]
    },
    {
     "data": {
      "image/png": "[encoded data removed]",
      "text/plain": [
       "<Figure size 432x288 with 1 Axes>"
      ]
     },
     "metadata": {
      "needs_background": "light"
     },
     "output_type": "display_data"
    },
    {
     "data": {
      "image/png": "[encoded data removed]",
      "text/plain": [
       "<Figure size 432x288 with 1 Axes>"
      ]
     },
     "metadata": {
      "needs_background": "light"
     },
     "output_type": "display_data"
    }
   ],
   "source": [
    "# load the best model\n",
    "best_model = load_model('1dcnn_lstm_model')\n",
    "\n",
    "# Compare the prediction with y_true\n",
    "preds = best_model.predict(X_val)\n",
    "pred_pm25 = scaler.inverse_transform(preds)\n",
    "pred_pm25 = np.squeeze(pred_pm25)\n",
    "\n",
    "# Measure MAE of y_pred and y_true\n",
    "mae = mean_absolute_error(df_val['pm2.5'].loc[7:], pred_pm25)\n",
    "print('MAE for the validation set:', round(mae, 4))\n",
    "\n",
    "mae = mean_absolute_error(df_val['scaled_pm2.5'].loc[7:], preds)\n",
    "print('MAE for the scaled validation set:', round(mae, 4))\n",
    "\n",
    "# Check the metrics and loss of each apoch\n",
    "mae = history.history['mae']\n",
    "val_mae = history.history['val_mae']\n",
    "loss = history.history['loss']\n",
    "val_loss = history.history['val_loss']\n",
    "\n",
    "epochs = range(len(mae))\n",
    "\n",
    "plt.plot(epochs, mae, 'bo', label='Training MAE')\n",
    "plt.plot(epochs, val_mae, 'b', label='Validation MAE')\n",
    "plt.title('Training and Validation MAE')\n",
    "plt.legend()\n",
    "\n",
    "plt.figure()\n",
    "\n",
    "# Here I was using MAE as loss too, that's why they lookedalmost the same...\n",
    "plt.plot(epochs, loss, 'bo', label='Training loss')\n",
    "plt.plot(epochs, val_loss, 'b', label='Validation loss')\n",
    "plt.title('Training and Validation loss')\n",
    "plt.legend()\n",
    "\n",
    "plt.show()"
   ]
  },
  {
   "cell_type": "markdown",
   "metadata": {},
   "source": [
    "## Note\n",
    "\n",
    "* 1D CNN only is faster when there is same amount of epoches and batch_size\n",
    "  * In this case, both experiments got same performance whe epoch and batch_size were the same\n",
    "* Both experiments appear to be a little bit underfitting"
   ]
  }
 ],
 "metadata": {
  "kernelspec": {
   "display_name": "Python 3",
   "language": "python",
   "name": "python3"
  },
  "language_info": {
   "codemirror_mode": {
    "name": "ipython",
    "version": 3
   },
   "file_extension": ".py",
   "mimetype": "text/x-python",
   "name": "python",
   "nbconvert_exporter": "python",
   "pygments_lexer": "ipython3",
   "version": "3.7.6"
  }
 },
 "nbformat": 4,
 "nbformat_minor": 4
}
