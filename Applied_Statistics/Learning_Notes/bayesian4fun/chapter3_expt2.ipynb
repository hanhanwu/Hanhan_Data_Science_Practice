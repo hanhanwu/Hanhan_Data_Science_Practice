{
 "cells": [
  {
   "cell_type": "code",
   "execution_count": 4,
   "metadata": {},
   "outputs": [],
   "source": [
    "%matplotlib inline\n",
    "import scipy.stats as stats\n",
    "from IPython.core.pylabtools import figsize\n",
    "import numpy as np\n",
    "figsize(12.5, 4)\n",
    "\n",
    "import matplotlib.pyplot as plt\n",
    "from mpl_toolkits.mplot3d import Axes3D\n",
    "\n",
    "import pymc3 as pm\n",
    "import theano.tensor as T"
   ]
  },
  {
   "cell_type": "code",
   "execution_count": 5,
   "metadata": {},
   "outputs": [
    {
     "name": "stdout",
     "output_type": "stream",
     "text": [
      "[115.85679142 152.26153716 178.87449059 162.93500815 107.02820697\n",
      " 105.19141146 118.38288501 125.3769803  102.88054011 206.71326136] ...\n"
     ]
    },
    {
     "data": {
      "image/png": "[encoded data removed]",
      "text/plain": [
       "<Figure size 900x288 with 1 Axes>"
      ]
     },
     "metadata": {
      "needs_background": "light"
     },
     "output_type": "display_data"
    }
   ],
   "source": [
    "figsize(12.5, 4)\n",
    "data = np.loadtxt(\"../data/mixture_data.csv\", delimiter=\",\")\n",
    "\n",
    "plt.hist(data, bins=20, color=\"g\", histtype=\"stepfilled\", alpha=0.8)\n",
    "plt.title(\"The Distribution of Mixture_Data Dataset\")\n",
    "plt.ylim([0, None]);\n",
    "print(data[:10], \"...\")"
   ]
  },
  {
   "cell_type": "code",
   "execution_count": 6,
   "metadata": {},
   "outputs": [
    {
     "name": "stdout",
     "output_type": "stream",
     "text": [
      "prior assignment, with p = 0.50:\n",
      "[0 1 1 0 1 0 1 1 0 0]\n"
     ]
    }
   ],
   "source": [
    "with pm.Model() as model:\n",
    "    p1 = pm.Uniform('p', 0, 1)\n",
    "    p2 = 1 - p1\n",
    "    p = T.stack([p1, p2])\n",
    "    assignment = pm.Categorical(\"assignment\", p, \n",
    "                                shape=data.shape[0],\n",
    "                                testval=np.random.randint(0, 2, data.shape[0]))\n",
    "    \n",
    "print(\"prior assignment, with p = %.2f:\" % p1.tag.test_value)\n",
    "print(assignment.tag.test_value[:10])"
   ]
  },
  {
   "cell_type": "markdown",
   "metadata": {},
   "source": [
    "### Note\n",
    "\n",
    "* The data is showing 2 peaks, might be binominal distribution. So the prior has p1, p2 to form cluster 1, 2\n",
    "* Since we don't know the probability of each data of getting into cluster 1 or 2, so uniformly assign the data to each cluster"
   ]
  },
  {
   "cell_type": "code",
   "execution_count": null,
   "metadata": {},
   "outputs": [],
   "source": []
  }
 ],
 "metadata": {
  "kernelspec": {
   "display_name": "Python 3",
   "language": "python",
   "name": "python3"
  },
  "language_info": {
   "codemirror_mode": {
    "name": "ipython",
    "version": 3
   },
   "file_extension": ".py",
   "mimetype": "text/x-python",
   "name": "python",
   "nbconvert_exporter": "python",
   "pygments_lexer": "ipython3",
   "version": "3.7.6"
  }
 },
 "nbformat": 4,
 "nbformat_minor": 4
}
