{
 "cells": [
  {
   "cell_type": "markdown",
   "metadata": {},
   "source": [
    "# Test Local GPU"
   ]
  },
  {
   "cell_type": "code",
   "execution_count": 1,
   "metadata": {},
   "outputs": [
    {
     "name": "stdout",
     "output_type": "stream",
     "text": [
      "True\n",
      "[name: \"/device:CPU:0\"\n",
      "device_type: \"CPU\"\n",
      "memory_limit: 268435456\n",
      "locality {\n",
      "}\n",
      "incarnation: 11869803027903071743\n",
      ", name: \"/device:GPU:0\"\n",
      "device_type: \"GPU\"\n",
      "memory_limit: 1393599692\n",
      "locality {\n",
      "  bus_id: 1\n",
      "  links {\n",
      "  }\n",
      "}\n",
      "incarnation: 15061923839992963534\n",
      "physical_device_desc: \"device: 0, name: GeForce GTX 1050, pci bus id: 0000:02:00.0, compute capability: 6.1\"\n",
      "]\n"
     ]
    }
   ],
   "source": [
    "import tensorflow as tf\n",
    "from tensorflow.python.client import device_lib\n",
    "\n",
    "from tensorflow.keras.models import Sequential\n",
    "from tensorflow.keras.optimizers import Adam\n",
    "from tensorflow.keras.layers import LSTM, GRU\n",
    "from tensorflow.compat.v1.keras.layers import CuDNNLSTM\n",
    "from tensorflow.keras.layers import Dense, Dropout, Input\n",
    "from tensorflow.keras.models import load_model\n",
    "from tensorflow.keras.callbacks import ModelCheckpoint\n",
    "\n",
    "from sklearn.metrics import mean_absolute_error\n",
    "\n",
    "import os\n",
    "import random\n",
    "import pandas as pd\n",
    "import numpy as np\n",
    "import datetime\n",
    "import time\n",
    "from matplotlib import pyplot as plt\n",
    "import seaborn as sns\n",
    "from sklearn.preprocessing import MinMaxScaler\n",
    "seed_value = 10\n",
    "os.environ['PYTHONHASHSEED']=str(seed_value)\n",
    "random.seed(seed_value)\n",
    "tf.random.set_seed(seed_value)\n",
    "np.random.seed(seed_value)\n",
    "\n",
    "# check whether GPU is available for tensorflow\n",
    "print(tf.test.is_built_with_cuda())\n",
    "print(device_lib.list_local_devices())"
   ]
  },
  {
   "cell_type": "markdown",
   "metadata": {},
   "source": [
    "### Make sure you have physical GPU\n",
    "\n",
    "* If there is no output below, need to uninstall `tensorflow` and just keep installed `tensorflow-gpu`\n",
    "  * `pip unistall tensorflow`\n",
    "  * `pip install --upgrade tensorflow-gpu`"
   ]
  },
  {
   "cell_type": "code",
   "execution_count": 2,
   "metadata": {},
   "outputs": [
    {
     "name": "stdout",
     "output_type": "stream",
     "text": [
      "[PhysicalDevice(name='/physical_device:GPU:0', device_type='GPU')]\n",
      "1 Physical GPUs, 1 Logical GPU\n"
     ]
    }
   ],
   "source": [
    "gpus = tf.config.experimental.list_physical_devices('GPU')\n",
    "print(gpus)\n",
    "if gpus:\n",
    "  # Restrict TensorFlow to only use the first GPU\n",
    "    try:\n",
    "        tf.config.experimental.set_visible_devices(gpus[0], 'GPU')\n",
    "        logical_gpus = tf.config.experimental.list_logical_devices('GPU')\n",
    "        print(len(gpus), \"Physical GPUs,\", len(logical_gpus), \"Logical GPU\")\n",
    "    except RuntimeError as e:\n",
    "        # Visible devices must be set before GPUs have been initialized\n",
    "        print(e)"
   ]
  },
  {
   "cell_type": "markdown",
   "metadata": {},
   "source": [
    "## How to Toggle between CPU and GPU"
   ]
  },
  {
   "cell_type": "code",
   "execution_count": 5,
   "metadata": {},
   "outputs": [
    {
     "name": "stdout",
     "output_type": "stream",
     "text": [
      "/cpu:0\n",
      "/cpu:0 tf.Tensor(\n",
      "[[22. 28.]\n",
      " [49. 64.]], shape=(2, 2), dtype=float32)\n",
      "\n",
      "/gpu:0\n",
      "/gpu:0 tf.Tensor(\n",
      "[[22. 28.]\n",
      " [49. 64.]], shape=(2, 2), dtype=float32)\n",
      "\n"
     ]
    }
   ],
   "source": [
    "device_names = [x.name for x in device_lib.list_local_devices()]\n",
    "\n",
    "for device_name in device_names:\n",
    "    if device_name == \"/device:GPU:0\":\n",
    "        device_name = \"/gpu:0\"\n",
    "    else:\n",
    "        device_name = \"/cpu:0\"\n",
    "\n",
    "    with tf.device(device_name):\n",
    "        print(device_name)\n",
    "        a = tf.constant([1.0, 2.0, 3.0, 4.0, 5.0, 6.0], shape=[2, 3], name='a')\n",
    "        b = tf.constant([1.0, 2.0, 3.0, 4.0, 5.0, 6.0], shape=[3, 2], name='b')\n",
    "        c = tf.matmul(a, b)\n",
    "        print(device_name, c)\n",
    "        print()"
   ]
  },
  {
   "cell_type": "markdown",
   "metadata": {},
   "source": [
    "## GPU vs CPU\n",
    "\n",
    "### Data Preprocessing\n",
    "\n",
    "* Data is downloaded from https://archive.ics.uci.edu/ml/datasets/Beijing+PM2.5+Data"
   ]
  },
  {
   "cell_type": "code",
   "execution_count": 3,
   "metadata": {},
   "outputs": [
    {
     "name": "stdout",
     "output_type": "stream",
     "text": [
      "(43824, 13)\n"
     ]
    },
    {
     "data": {
      "text/html": [
       "<div>\n",
       "<style scoped>\n",
       "    .dataframe tbody tr th:only-of-type {\n",
       "        vertical-align: middle;\n",
       "    }\n",
       "\n",
       "    .dataframe tbody tr th {\n",
       "        vertical-align: top;\n",
       "    }\n",
       "\n",
       "    .dataframe thead th {\n",
       "        text-align: right;\n",
       "    }\n",
       "</style>\n",
       "<table border=\"1\" class=\"dataframe\">\n",
       "  <thead>\n",
       "    <tr style=\"text-align: right;\">\n",
       "      <th></th>\n",
       "      <th>No</th>\n",
       "      <th>year</th>\n",
       "      <th>month</th>\n",
       "      <th>day</th>\n",
       "      <th>hour</th>\n",
       "      <th>pm2.5</th>\n",
       "      <th>DEWP</th>\n",
       "      <th>TEMP</th>\n",
       "      <th>PRES</th>\n",
       "      <th>cbwd</th>\n",
       "      <th>Iws</th>\n",
       "      <th>Is</th>\n",
       "      <th>Ir</th>\n",
       "    </tr>\n",
       "  </thead>\n",
       "  <tbody>\n",
       "    <tr>\n",
       "      <th>0</th>\n",
       "      <td>1</td>\n",
       "      <td>2010</td>\n",
       "      <td>1</td>\n",
       "      <td>1</td>\n",
       "      <td>0</td>\n",
       "      <td>NaN</td>\n",
       "      <td>-21</td>\n",
       "      <td>-11.0</td>\n",
       "      <td>1021.0</td>\n",
       "      <td>NW</td>\n",
       "      <td>1.79</td>\n",
       "      <td>0</td>\n",
       "      <td>0</td>\n",
       "    </tr>\n",
       "    <tr>\n",
       "      <th>1</th>\n",
       "      <td>2</td>\n",
       "      <td>2010</td>\n",
       "      <td>1</td>\n",
       "      <td>1</td>\n",
       "      <td>1</td>\n",
       "      <td>NaN</td>\n",
       "      <td>-21</td>\n",
       "      <td>-12.0</td>\n",
       "      <td>1020.0</td>\n",
       "      <td>NW</td>\n",
       "      <td>4.92</td>\n",
       "      <td>0</td>\n",
       "      <td>0</td>\n",
       "    </tr>\n",
       "    <tr>\n",
       "      <th>2</th>\n",
       "      <td>3</td>\n",
       "      <td>2010</td>\n",
       "      <td>1</td>\n",
       "      <td>1</td>\n",
       "      <td>2</td>\n",
       "      <td>NaN</td>\n",
       "      <td>-21</td>\n",
       "      <td>-11.0</td>\n",
       "      <td>1019.0</td>\n",
       "      <td>NW</td>\n",
       "      <td>6.71</td>\n",
       "      <td>0</td>\n",
       "      <td>0</td>\n",
       "    </tr>\n",
       "    <tr>\n",
       "      <th>3</th>\n",
       "      <td>4</td>\n",
       "      <td>2010</td>\n",
       "      <td>1</td>\n",
       "      <td>1</td>\n",
       "      <td>3</td>\n",
       "      <td>NaN</td>\n",
       "      <td>-21</td>\n",
       "      <td>-14.0</td>\n",
       "      <td>1019.0</td>\n",
       "      <td>NW</td>\n",
       "      <td>9.84</td>\n",
       "      <td>0</td>\n",
       "      <td>0</td>\n",
       "    </tr>\n",
       "    <tr>\n",
       "      <th>4</th>\n",
       "      <td>5</td>\n",
       "      <td>2010</td>\n",
       "      <td>1</td>\n",
       "      <td>1</td>\n",
       "      <td>4</td>\n",
       "      <td>NaN</td>\n",
       "      <td>-20</td>\n",
       "      <td>-12.0</td>\n",
       "      <td>1018.0</td>\n",
       "      <td>NW</td>\n",
       "      <td>12.97</td>\n",
       "      <td>0</td>\n",
       "      <td>0</td>\n",
       "    </tr>\n",
       "  </tbody>\n",
       "</table>\n",
       "</div>"
      ],
      "text/plain": [
       "   No  year  month  day  hour  pm2.5  DEWP  TEMP    PRES cbwd    Iws  Is  Ir\n",
       "0   1  2010      1    1     0    NaN   -21 -11.0  1021.0   NW   1.79   0   0\n",
       "1   2  2010      1    1     1    NaN   -21 -12.0  1020.0   NW   4.92   0   0\n",
       "2   3  2010      1    1     2    NaN   -21 -11.0  1019.0   NW   6.71   0   0\n",
       "3   4  2010      1    1     3    NaN   -21 -14.0  1019.0   NW   9.84   0   0\n",
       "4   5  2010      1    1     4    NaN   -20 -12.0  1018.0   NW  12.97   0   0"
      ]
     },
     "execution_count": 3,
     "metadata": {},
     "output_type": "execute_result"
    }
   ],
   "source": [
    "df = pd.read_csv('../time_series/data/pm25.csv')\n",
    "\n",
    "print(df.shape)\n",
    "df.head()"
   ]
  },
  {
   "cell_type": "code",
   "execution_count": 4,
   "metadata": {},
   "outputs": [
    {
     "name": "stdout",
     "output_type": "stream",
     "text": [
      "Shape of train: (33096, 15)\n",
      "Shape of test: (8661, 15)\n"
     ]
    }
   ],
   "source": [
    "df.dropna(subset=['pm2.5'], axis=0, inplace=True)\n",
    "df.reset_index(drop=True, inplace=True)\n",
    "\n",
    "df['datetime'] = df[['year', 'month', 'day', 'hour']].apply(\n",
    "    lambda row: datetime.datetime(year=row['year'], \n",
    "                                  month=row['month'], day=row['day'],hour=row['hour']), axis=1)\n",
    "df.sort_values('datetime', ascending=True, inplace=True)\n",
    "\n",
    "scaler = MinMaxScaler(feature_range=(0, 1))\n",
    "df['scaled_pm2.5'] = scaler.fit_transform(np.array(df['pm2.5']).reshape(-1, 1))\n",
    "\n",
    "split_date = datetime.datetime(year=2014, month=1, day=1, hour=0)  \n",
    "df_train = df.loc[df['datetime']<split_date]\n",
    "df_val = df.loc[df['datetime']>=split_date]\n",
    "df_val.reset_index(drop=True, inplace=True)\n",
    "print('Shape of train:', df_train.shape)\n",
    "print('Shape of test:', df_val.shape)"
   ]
  },
  {
   "cell_type": "code",
   "execution_count": 5,
   "metadata": {},
   "outputs": [],
   "source": [
    "def makeXy(ts, nb_timesteps):\n",
    "    \"\"\"\n",
    "    Input: \n",
    "           ts: original time series\n",
    "           nb_timesteps: number of time steps in the regressors\n",
    "    Output: \n",
    "           X: 2-D array of regressors\n",
    "           y: 1-D array of target \n",
    "    \"\"\"\n",
    "    X = []\n",
    "    y = []\n",
    "    for i in range(nb_timesteps, ts.shape[0]):\n",
    "        X.append(list(ts.loc[i-nb_timesteps:i-1]))\n",
    "        y.append(ts.loc[i])\n",
    "        \n",
    "    X, y = np.array(X), np.array(y)\n",
    "    return X, y"
   ]
  },
  {
   "cell_type": "code",
   "execution_count": 6,
   "metadata": {},
   "outputs": [
    {
     "name": "stdout",
     "output_type": "stream",
     "text": [
      "Shape of train arrays: (33089, 7) (33089,)\n",
      "Shape of validation arrays: (8654, 7) (8654,)\n",
      "Shape of arrays after reshaping: (33089, 7, 1) (8654, 7, 1)\n"
     ]
    }
   ],
   "source": [
    "X_train, y_train = makeXy(df_train['scaled_pm2.5'], 7)\n",
    "X_val, y_val = makeXy(df_val['scaled_pm2.5'], 7)\n",
    "\n",
    "print('Shape of train arrays:', X_train.shape, y_train.shape)\n",
    "print('Shape of validation arrays:', X_val.shape, y_val.shape)\n",
    "\n",
    "X_train = X_train.reshape((X_train.shape[0], X_train.shape[1], 1))\n",
    "X_val = X_val.reshape((X_val.shape[0], X_val.shape[1], 1))\n",
    "print('Shape of arrays after reshaping:', X_train.shape, X_val.shape)"
   ]
  },
  {
   "cell_type": "markdown",
   "metadata": {},
   "source": [
    "### Common Functions"
   ]
  },
  {
   "cell_type": "code",
   "execution_count": 16,
   "metadata": {},
   "outputs": [],
   "source": [
    "# def stack_models(X_train, device_name):\n",
    "#     model = Sequential()\n",
    "#     if device_name == '/cpu:0':\n",
    "#         model.add(LSTM(32,\n",
    "#                        dropout=0.2,\n",
    "#                        recurrent_dropout=0.5,\n",
    "#                        return_sequences=True,\n",
    "#                        input_shape=(X_train.shape[1:])))\n",
    "#         model.add(LSTM(32, \n",
    "#                        activation='tanh',\n",
    "#                        dropout=0.2, \n",
    "#                        recurrent_dropout=0.5))\n",
    "#         model.add(Dense(1, activation='tanh'))\n",
    "#     else:\n",
    "#         model.add(CuDNNLSTM(32,\n",
    "#                        return_sequences=True,\n",
    "#                        input_shape=(X_train.shape[1:])))\n",
    "#         model.add(CuDNNLSTM(32, return_sequences=True))\n",
    "#         model.add(Dense(1, activation='tanh'))\n",
    "\n",
    "#     model.compile(optimizer=Adam(amsgrad=True, learning_rate=0.1), loss='mean_absolute_error', metrics='mae')\n",
    "#     model.summary()\n",
    "#     return model\n",
    "\n",
    "def stack_models(X_train, device_name):\n",
    "    model = Sequential()\n",
    "    model.add(LSTM(32,\n",
    "                    dropout=0.2,\n",
    "                    recurrent_dropout=0.5,\n",
    "                    return_sequences=True,\n",
    "                    input_shape=(X_train.shape[1:])))\n",
    "    model.add(LSTM(32, \n",
    "                    activation='tanh',\n",
    "                    dropout=0.2, \n",
    "                    recurrent_dropout=0.5))\n",
    "    model.add(Dense(1, activation='tanh'))\n",
    "\n",
    "    model.compile(optimizer=Adam(amsgrad=True, learning_rate=0.1), loss='mean_absolute_error', metrics='mae')\n",
    "    model.summary()\n",
    "    return model\n",
    "\n",
    "def fit_diy_model(model, X_train, y_train, X_val, y_val, model_name):\n",
    "    start_time = time.time()\n",
    "    save_weights_at = model_name\n",
    "    save_best = ModelCheckpoint(save_weights_at, monitor='val_loss', verbose=0,\n",
    "                                save_best_only=True, save_weights_only=False, mode='min',\n",
    "                                save_freq='epoch')\n",
    "    history = model.fit(x=X_train, y=y_train, batch_size=100, epochs=20,\n",
    "                 verbose=1, callbacks=[save_best], validation_data=(X_val, y_val),\n",
    "                 shuffle=True)\n",
    "    print(\"--- %s seconds ---\" % (time.time() - start_time))\n",
    "    return history\n",
    "\n",
    "def evaluate_diy_model(model_name, history, X_val, df_val):\n",
    "    # load the best model\n",
    "    best_model = load_model(model_name)\n",
    "\n",
    "    # Compare the prediction with y_true\n",
    "    preds = best_model.predict(X_val)\n",
    "    pred_pm25 = scaler.inverse_transform(preds)\n",
    "    pred_pm25 = np.squeeze(pred_pm25)\n",
    "\n",
    "    # Measure MAE of y_pred and y_true\n",
    "    mae = mean_absolute_error(df_val['pm2.5'].loc[7:], pred_pm25)\n",
    "    print('MAE for the validation set:', round(mae, 4))\n",
    "\n",
    "    mae = mean_absolute_error(df_val['scaled_pm2.5'].loc[7:], preds)\n",
    "    print('MAE for the scaled validation set:', round(mae, 4))\n",
    "\n",
    "    # Check the metrics and loss of each apoch\n",
    "    mae = history.history['mae']\n",
    "    val_mae = history.history['val_mae']\n",
    "    loss = history.history['loss']\n",
    "    val_loss = history.history['val_loss']\n",
    "\n",
    "    epochs = range(len(mae))\n",
    "\n",
    "    plt.plot(epochs, mae, 'bo', label='Training MAE')\n",
    "    plt.plot(epochs, val_mae, 'b', label='Validation MAE')\n",
    "    plt.title('Training and Validation MAE')\n",
    "    plt.legend()\n",
    "\n",
    "    plt.figure()\n",
    "\n",
    "    # Here I was using MAE as loss too, that's why they lookedalmost the same...\n",
    "    plt.plot(epochs, loss, 'bo', label='Training loss')\n",
    "    plt.plot(epochs, val_loss, 'b', label='Validation loss')\n",
    "    plt.title('Training and Validation loss')\n",
    "    plt.legend()\n",
    "\n",
    "    plt.show()"
   ]
  },
  {
   "cell_type": "markdown",
   "metadata": {},
   "source": [
    "### CPU\n",
    "\n",
    "* Note: the warning below doesn't mean you are using GPU. In fact it's using CPU here since I'm tracking the Windows Task Manager's \"Performance\".\n",
    "* To track whether there is really GPU in use, need to make sure `tf.config.experimental.list_physical_devices('GPU')` has at least 1 GPU available."
   ]
  },
  {
   "cell_type": "code",
   "execution_count": 19,
   "metadata": {
    "scrolled": false
   },
   "outputs": [
    {
     "name": "stdout",
     "output_type": "stream",
     "text": [
      "WARNING:tensorflow:Layer lstm_6 will not use cuDNN kernel since it doesn't meet the cuDNN kernel criteria. It will use generic GPU kernel as fallback when running on GPU\n",
      "WARNING:tensorflow:Layer lstm_7 will not use cuDNN kernel since it doesn't meet the cuDNN kernel criteria. It will use generic GPU kernel as fallback when running on GPU\n",
      "Model: \"sequential_5\"\n",
      "_________________________________________________________________\n",
      "Layer (type)                 Output Shape              Param #   \n",
      "=================================================================\n",
      "lstm_6 (LSTM)                (None, 7, 32)             4352      \n",
      "_________________________________________________________________\n",
      "lstm_7 (LSTM)                (None, 32)                8320      \n",
      "_________________________________________________________________\n",
      "dense_5 (Dense)              (None, 1)                 33        \n",
      "=================================================================\n",
      "Total params: 12,705\n",
      "Trainable params: 12,705\n",
      "Non-trainable params: 0\n",
      "_________________________________________________________________\n",
      "Epoch 1/20\n",
      "331/331 [==============================] - 7s 11ms/step - loss: 0.0721 - mae: 0.0721 - val_loss: 0.0210 - val_mae: 0.0210\n",
      "INFO:tensorflow:Assets written to: stacking_lstm_model_tanh_cpu\\assets\n",
      "Epoch 2/20\n",
      "331/331 [==============================] - 3s 10ms/step - loss: 0.0259 - mae: 0.0259 - val_loss: 0.0191 - val_mae: 0.0191\n",
      "INFO:tensorflow:Assets written to: stacking_lstm_model_tanh_cpu\\assets\n",
      "Epoch 3/20\n",
      "331/331 [==============================] - 3s 10ms/step - loss: 0.0239 - mae: 0.0239 - val_loss: 0.0300 - val_mae: 0.0300\n",
      "Epoch 4/20\n",
      "331/331 [==============================] - 3s 11ms/step - loss: 0.0229 - mae: 0.0229 - val_loss: 0.0203 - val_mae: 0.0203\n",
      "Epoch 5/20\n",
      "331/331 [==============================] - 4s 11ms/step - loss: 0.0208 - mae: 0.0208 - val_loss: 0.0280 - val_mae: 0.0280\n",
      "Epoch 6/20\n",
      "331/331 [==============================] - 4s 11ms/step - loss: 0.0199 - mae: 0.0199 - val_loss: 0.0203 - val_mae: 0.0203\n",
      "Epoch 7/20\n",
      "331/331 [==============================] - 4s 11ms/step - loss: 0.0216 - mae: 0.0216 - val_loss: 0.0210 - val_mae: 0.0210\n",
      "Epoch 8/20\n",
      "331/331 [==============================] - 4s 11ms/step - loss: 0.0190 - mae: 0.0190 - val_loss: 0.0187 - val_mae: 0.0187\n",
      "INFO:tensorflow:Assets written to: stacking_lstm_model_tanh_cpu\\assets\n",
      "Epoch 9/20\n",
      "331/331 [==============================] - 3s 10ms/step - loss: 0.0181 - mae: 0.0181 - val_loss: 0.0237 - val_mae: 0.0237\n",
      "Epoch 10/20\n",
      "331/331 [==============================] - 3s 10ms/step - loss: 0.0202 - mae: 0.0202 - val_loss: 0.0190 - val_mae: 0.0190\n",
      "Epoch 11/20\n",
      "331/331 [==============================] - 3s 11ms/step - loss: 0.0193 - mae: 0.0193 - val_loss: 0.0210 - val_mae: 0.0210\n",
      "Epoch 12/20\n",
      "331/331 [==============================] - 4s 11ms/step - loss: 0.0174 - mae: 0.0174 - val_loss: 0.0202 - val_mae: 0.0202\n",
      "Epoch 13/20\n",
      "331/331 [==============================] - 4s 11ms/step - loss: 0.0189 - mae: 0.0189 - val_loss: 0.0179 - val_mae: 0.0179\n",
      "INFO:tensorflow:Assets written to: stacking_lstm_model_tanh_cpu\\assets\n",
      "Epoch 14/20\n",
      "331/331 [==============================] - 4s 12ms/step - loss: 0.0171 - mae: 0.0171 - val_loss: 0.0202 - val_mae: 0.0202\n",
      "Epoch 15/20\n",
      "331/331 [==============================] - 6s 17ms/step - loss: 0.0174 - mae: 0.0174 - val_loss: 0.0198 - val_mae: 0.0198\n",
      "Epoch 16/20\n",
      "331/331 [==============================] - 6s 17ms/step - loss: 0.0177 - mae: 0.0177 - val_loss: 0.0189 - val_mae: 0.0189\n",
      "Epoch 17/20\n",
      "331/331 [==============================] - 5s 16ms/step - loss: 0.0180 - mae: 0.0180 - val_loss: 0.0275 - val_mae: 0.0275\n",
      "Epoch 18/20\n",
      "331/331 [==============================] - 5s 17ms/step - loss: 0.0168 - mae: 0.0168 - val_loss: 0.0210 - val_mae: 0.0210\n",
      "Epoch 19/20\n",
      "331/331 [==============================] - 6s 17ms/step - loss: 0.0167 - mae: 0.0167 - val_loss: 0.0277 - val_mae: 0.0277\n",
      "Epoch 20/20\n",
      "331/331 [==============================] - 6s 17ms/step - loss: 0.0168 - mae: 0.0168 - val_loss: 0.0294 - val_mae: 0.0294\n",
      "--- 102.41890168190002 seconds ---\n",
      "WARNING:tensorflow:Layer lstm_6 will not use cuDNN kernel since it doesn't meet the cuDNN kernel criteria. It will use generic GPU kernel as fallback when running on GPU\n",
      "WARNING:tensorflow:Layer lstm_7 will not use cuDNN kernel since it doesn't meet the cuDNN kernel criteria. It will use generic GPU kernel as fallback when running on GPU\n",
      "MAE for the validation set: 17.8323\n",
      "MAE for the scaled validation set: 0.0179\n"
     ]
    },
    {
     "data": {
      "image/png": "[encoded data removed]",
      "text/plain": [
       "<Figure size 432x288 with 1 Axes>"
      ]
     },
     "metadata": {
      "needs_background": "light"
     },
     "output_type": "display_data"
    },
    {
     "data": {
      "image/png": "[encoded data removed]",
      "text/plain": [
       "<Figure size 432x288 with 1 Axes>"
      ]
     },
     "metadata": {
      "needs_background": "light"
     },
     "output_type": "display_data"
    }
   ],
   "source": [
    "# Stacked LSTMs\n",
    "device_name = '/cpu:0'\n",
    "with tf.device(device_name):\n",
    "    model_name = 'stacking_lstm_model_tanh_cpu'\n",
    "    model = stack_models(X_train, device_name)\n",
    "    history = fit_diy_model(model, X_train, y_train, X_val, y_val, model_name)\n",
    "    evaluate_diy_model(model_name, history, X_val, df_val)"
   ]
  },
  {
   "cell_type": "markdown",
   "metadata": {},
   "source": [
    "### GPU\n",
    "\n",
    "* The GPU utilization for this example is very small (less than 10% utilization) even after I have increased the batch size from 16 to 3000\n",
    "  * People suggest to increase the batch size when GPU utilization is low....\n",
    "* <b>GPU does't always work better than CPU.</b> As you can see from the the results below, CPU is much faster than GPU.\n",
    "  * Because the overhead of invoking GPU kernels, and copying data to and from GPU, is very high. For operations on models with very little parameters it is not worth of using GPU\n",
    "  * I was tracking Windows \"Task Manage\", when it's using GPU, the utilization of CPU is higher than GPU utilization, might be caused by GPU related operations. (When it's using CPU, the utilization of CPU is much higher, 0% utilization of GPU)\n",
    "  * I have also tried `CuDNNLSTM` to replace lstm for GPU, since it's faster, but it's still underdeveopped\n",
    "    * \"dropout\" and \"activation\" are not supported in `CuDNNLSTM` for now....😔😔\n",
    "    * Somehow it's compalining the data didn't have initial state. I'm wondering whether it's because my current CUDA server is the latest (released on Dec. 2020) but the matched cuDNN hasn't come out... (released on Nov. 2020)"
   ]
  },
  {
   "cell_type": "code",
   "execution_count": 17,
   "metadata": {},
   "outputs": [
    {
     "name": "stdout",
     "output_type": "stream",
     "text": [
      "WARNING:tensorflow:Layer lstm_4 will not use cuDNN kernel since it doesn't meet the cuDNN kernel criteria. It will use generic GPU kernel as fallback when running on GPU\n",
      "WARNING:tensorflow:Layer lstm_5 will not use cuDNN kernel since it doesn't meet the cuDNN kernel criteria. It will use generic GPU kernel as fallback when running on GPU\n",
      "Model: \"sequential_4\"\n",
      "_________________________________________________________________\n",
      "Layer (type)                 Output Shape              Param #   \n",
      "=================================================================\n",
      "lstm_4 (LSTM)                (None, 7, 32)             4352      \n",
      "_________________________________________________________________\n",
      "lstm_5 (LSTM)                (None, 32)                8320      \n",
      "_________________________________________________________________\n",
      "dense_4 (Dense)              (None, 1)                 33        \n",
      "=================================================================\n",
      "Total params: 12,705\n",
      "Trainable params: 12,705\n",
      "Non-trainable params: 0\n",
      "_________________________________________________________________\n",
      "Epoch 1/20\n",
      "331/331 [==============================] - 101s 280ms/step - loss: 0.0788 - mae: 0.0788 - val_loss: 0.0241 - val_mae: 0.0241\n",
      "INFO:tensorflow:Assets written to: stacking_lstm_model_tanh_gpu\\assets\n",
      "Epoch 2/20\n",
      "331/331 [==============================] - 67s 204ms/step - loss: 0.0267 - mae: 0.0267 - val_loss: 0.0235 - val_mae: 0.0235\n",
      "INFO:tensorflow:Assets written to: stacking_lstm_model_tanh_gpu\\assets\n",
      "Epoch 3/20\n",
      "331/331 [==============================] - 84s 254ms/step - loss: 0.0242 - mae: 0.0242 - val_loss: 0.0224 - val_mae: 0.0224\n",
      "INFO:tensorflow:Assets written to: stacking_lstm_model_tanh_gpu\\assets\n",
      "Epoch 4/20\n",
      "331/331 [==============================] - 68s 207ms/step - loss: 0.0217 - mae: 0.0217 - val_loss: 0.0225 - val_mae: 0.0225\n",
      "Epoch 5/20\n",
      "331/331 [==============================] - 73s 219ms/step - loss: 0.0207 - mae: 0.0207 - val_loss: 0.0351 - val_mae: 0.0351\n",
      "Epoch 6/20\n",
      "331/331 [==============================] - 66s 200ms/step - loss: 0.0195 - mae: 0.0195 - val_loss: 0.0237 - val_mae: 0.0237\n",
      "Epoch 7/20\n",
      "331/331 [==============================] - 71s 214ms/step - loss: 0.0196 - mae: 0.0196 - val_loss: 0.0309 - val_mae: 0.0309\n",
      "Epoch 8/20\n",
      "331/331 [==============================] - 146s 441ms/step - loss: 0.0192 - mae: 0.0192 - val_loss: 0.0231 - val_mae: 0.0231\n",
      "Epoch 9/20\n",
      "331/331 [==============================] - 67s 203ms/step - loss: 0.0186 - mae: 0.0186 - val_loss: 0.0199 - val_mae: 0.0199\n",
      "INFO:tensorflow:Assets written to: stacking_lstm_model_tanh_gpu\\assets\n",
      "Epoch 10/20\n",
      "331/331 [==============================] - 81s 244ms/step - loss: 0.0190 - mae: 0.0190 - val_loss: 0.0209 - val_mae: 0.0209\n",
      "Epoch 11/20\n",
      "331/331 [==============================] - 65s 196ms/step - loss: 0.0175 - mae: 0.0175 - val_loss: 0.0187 - val_mae: 0.0187\n",
      "INFO:tensorflow:Assets written to: stacking_lstm_model_tanh_gpu\\assets\n",
      "Epoch 12/20\n",
      "331/331 [==============================] - 71s 216ms/step - loss: 0.0188 - mae: 0.0188 - val_loss: 0.0216 - val_mae: 0.0216\n",
      "Epoch 13/20\n",
      "331/331 [==============================] - 64s 194ms/step - loss: 0.0194 - mae: 0.0194 - val_loss: 0.0231 - val_mae: 0.0231\n",
      "Epoch 14/20\n",
      "331/331 [==============================] - 71s 214ms/step - loss: 0.0172 - mae: 0.0172 - val_loss: 0.0257 - val_mae: 0.0257\n",
      "Epoch 15/20\n",
      "331/331 [==============================] - 63s 190ms/step - loss: 0.0175 - mae: 0.0175 - val_loss: 0.0224 - val_mae: 0.0224\n",
      "Epoch 16/20\n",
      "331/331 [==============================] - 70s 212ms/step - loss: 0.0170 - mae: 0.0170 - val_loss: 0.0224 - val_mae: 0.0224\n",
      "Epoch 17/20\n",
      "331/331 [==============================] - 63s 191ms/step - loss: 0.0173 - mae: 0.0173 - val_loss: 0.0233 - val_mae: 0.0233\n",
      "Epoch 18/20\n",
      "331/331 [==============================] - 71s 214ms/step - loss: 0.0175 - mae: 0.0175 - val_loss: 0.0276 - val_mae: 0.0276\n",
      "Epoch 19/20\n",
      "331/331 [==============================] - 61s 184ms/step - loss: 0.0175 - mae: 0.0175 - val_loss: 0.0259 - val_mae: 0.0259\n",
      "Epoch 20/20\n",
      "331/331 [==============================] - 71s 214ms/step - loss: 0.0176 - mae: 0.0176 - val_loss: 0.0210 - val_mae: 0.0210\n",
      "--- 1519.6915309429169 seconds ---\n",
      "WARNING:tensorflow:Layer lstm_4 will not use cuDNN kernel since it doesn't meet the cuDNN kernel criteria. It will use generic GPU kernel as fallback when running on GPU\n",
      "WARNING:tensorflow:Layer lstm_5 will not use cuDNN kernel since it doesn't meet the cuDNN kernel criteria. It will use generic GPU kernel as fallback when running on GPU\n",
      "MAE for the validation set: 18.6194\n",
      "MAE for the scaled validation set: 0.0187\n"
     ]
    },
    {
     "data": {
      "image/png": "[encoded data removed]",
      "text/plain": [
       "<Figure size 432x288 with 1 Axes>"
      ]
     },
     "metadata": {
      "needs_background": "light"
     },
     "output_type": "display_data"
    },
    {
     "data": {
      "image/png": "[encoded data removed]",
      "text/plain": [
       "<Figure size 432x288 with 1 Axes>"
      ]
     },
     "metadata": {
      "needs_background": "light"
     },
     "output_type": "display_data"
    }
   ],
   "source": [
    "# Stacked LSTMs\n",
    "device_name = '/gpu:0'\n",
    "with tf.device(device_name):\n",
    "    model_name = 'stacking_lstm_model_tanh_gpu'\n",
    "    model = stack_models(X_train, device_name)\n",
    "    history = fit_diy_model(model, X_train, y_train, X_val, y_val, model_name)\n",
    "    evaluate_diy_model(model_name, history, X_val, df_val)"
   ]
  }
 ],
 "metadata": {
  "kernelspec": {
   "display_name": "Python 3",
   "language": "python",
   "name": "python3"
  },
  "language_info": {
   "codemirror_mode": {
    "name": "ipython",
    "version": 3
   },
   "file_extension": ".py",
   "mimetype": "text/x-python",
   "name": "python",
   "nbconvert_exporter": "python",
   "pygments_lexer": "ipython3",
   "version": "3.7.6"
  }
 },
 "nbformat": 4,
 "nbformat_minor": 4
}
